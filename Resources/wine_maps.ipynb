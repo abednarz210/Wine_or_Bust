{
 "cells": [
  {
   "cell_type": "code",
   "execution_count": 1,
   "metadata": {},
   "outputs": [
    {
     "data": {
      "text/html": [
       "<div>\n",
       "<style scoped>\n",
       "    .dataframe tbody tr th:only-of-type {\n",
       "        vertical-align: middle;\n",
       "    }\n",
       "\n",
       "    .dataframe tbody tr th {\n",
       "        vertical-align: top;\n",
       "    }\n",
       "\n",
       "    .dataframe thead th {\n",
       "        text-align: right;\n",
       "    }\n",
       "</style>\n",
       "<table border=\"1\" class=\"dataframe\">\n",
       "  <thead>\n",
       "    <tr style=\"text-align: right;\">\n",
       "      <th></th>\n",
       "      <th>state</th>\n",
       "      <th>region</th>\n",
       "      <th>num_wineries</th>\n",
       "      <th>Lat</th>\n",
       "      <th>Lng</th>\n",
       "    </tr>\n",
       "  </thead>\n",
       "  <tbody>\n",
       "    <tr>\n",
       "      <th>0</th>\n",
       "      <td>Arizona</td>\n",
       "      <td>Arizona</td>\n",
       "      <td>12</td>\n",
       "      <td>34.048928</td>\n",
       "      <td>-111.093731</td>\n",
       "    </tr>\n",
       "    <tr>\n",
       "      <th>1</th>\n",
       "      <td>Arizona</td>\n",
       "      <td>Cochise County</td>\n",
       "      <td>27</td>\n",
       "      <td>31.828458</td>\n",
       "      <td>-109.949686</td>\n",
       "    </tr>\n",
       "    <tr>\n",
       "      <th>2</th>\n",
       "      <td>Arizona</td>\n",
       "      <td>Sonoita</td>\n",
       "      <td>2</td>\n",
       "      <td>31.679534</td>\n",
       "      <td>-110.655359</td>\n",
       "    </tr>\n",
       "    <tr>\n",
       "      <th>3</th>\n",
       "      <td>California</td>\n",
       "      <td>Adelaida District</td>\n",
       "      <td>110</td>\n",
       "      <td>35.649697</td>\n",
       "      <td>-120.797451</td>\n",
       "    </tr>\n",
       "    <tr>\n",
       "      <th>4</th>\n",
       "      <td>California</td>\n",
       "      <td>Alexander Valley</td>\n",
       "      <td>784</td>\n",
       "      <td>38.612965</td>\n",
       "      <td>-122.769435</td>\n",
       "    </tr>\n",
       "  </tbody>\n",
       "</table>\n",
       "</div>"
      ],
      "text/plain": [
       "        state             region  num_wineries        Lat         Lng\n",
       "0     Arizona            Arizona            12  34.048928 -111.093731\n",
       "1     Arizona     Cochise County            27  31.828458 -109.949686\n",
       "2     Arizona            Sonoita             2  31.679534 -110.655359\n",
       "3  California  Adelaida District           110  35.649697 -120.797451\n",
       "4  California   Alexander Valley           784  38.612965 -122.769435"
      ]
     },
     "execution_count": 1,
     "metadata": {},
     "output_type": "execute_result"
    }
   ],
   "source": [
    "import pandas as pd\n",
    "df = pd.read_csv(\"Resources/lat_longs.csv\")\n",
    "                  \n",
    "df.head()"
   ]
  },
  {
   "cell_type": "code",
   "execution_count": 3,
   "metadata": {},
   "outputs": [
    {
     "data": {
      "application/vnd.plotly.v1+json": {
       "config": {
        "plotlyServerURL": "https://plot.ly"
       },
       "data": [
        {
         "lat": [
          34.048928100000005,
          31.82845799999999,
          31.6795337,
          35.64969680000001,
          38.612964700000006,
          37.398829,
          38.3488921,
          38.340154299999995,
          39.0865657,
          34.75137120000001,
          35.14433629999999,
          23.075250699999998,
          38.450743,
          34.6354195,
          41.363274,
          38.4404672,
          39.022127399999995,
          38.1960477,
          36.778261,
          36.778261,
          39.59388999999999,
          38.5787965,
          38.710736600000004,
          36.4799024,
          38.255455600000005,
          38.255455600000005,
          40.7834482,
          40.19987769999999,
          38.5682227,
          36.470137799999996,
          38.532564,
          36.709960200000005,
          39.2806451,
          39.05819049999999,
          38.190909999999995,
          35.9733,
          37.8534093,
          38.2971707,
          34.0192133,
          40.3126723,
          38.6112043,
          38.794346000000004,
          35.217000399999996,
          36.157489700000006,
          38.74263759999999,
          38.79211970000001,
          37.6321682,
          38.503910499999996,
          38.5140796,
          31.8542511,
          38.735829100000004,
          34.420641499999995,
          33.15032539999999,
          38.58139,
          40.7450055,
          38.6351857,
          42.368936299999994,
          39.217383700000006,
          38.759642,
          38.5477595,
          39.15427409999999,
          37.688744,
          38.1341477,
          34.4353532,
          36.961335600000005,
          34.025921600000004,
          34.0761256,
          38.083403000000004,
          38.976128,
          39.3076744,
          39.5500194,
          39.3076744,
          38.3488921,
          39.217383700000006,
          38.9812473,
          38.109759499999996,
          36.600237799999995,
          36.3136201,
          38.502468900000004,
          36.5977854,
          36.5407407,
          34.4217436,
          34.439296899999995,
          36.9741171,
          38.3459224,
          36.6974604,
          38.3793566,
          36.6974604,
          38.502468900000004,
          38.502468900000004,
          38.4963694,
          38.5779555,
          38.5477595,
          37.9175935,
          38.502468900000004,
          35.644439299999995,
          38.379799,
          38.255455600000005,
          38.283957,
          38.283957,
          38.363443700000005,
          38.291859,
          39.1346666,
          41.41961149999999,
          38.49876629999999,
          38.35833,
          43.467517,
          36.7289127,
          35.6368759,
          35.614576299999996,
          35.588567,
          38.854586,
          39.0915751,
          39.322108899999996,
          33.046725300000006,
          31.4724086,
          39.265249100000005,
          43.023122,
          41.8386562,
          38.4829842,
          40.826489,
          34.09461599999999,
          37.3917578,
          36.576088299999995,
          34.115784000000005,
          32.7157305,
          37.6909682,
          37.6795353,
          22.890532699999998,
          35.2827524,
          35.31022960000001,
          34.4208305,
          34.4208305,
          37.3336581,
          37.24884779999999,
          37.045398799999994,
          37.1108921,
          36.4307709,
          35.39798440000001,
          34.898383,
          34.5841542,
          38.5348836,
          33.3235007,
          34.476937899999996,
          38.3104969,
          38.2529705,
          38.291859,
          38.4242109,
          38.5779555,
          39.083964400000006,
          38.502468900000004,
          38.447323499999996,
          38.291859,
          38.5779555,
          38.322969799999996,
          38.366879700000005,
          38.291859,
          38.5477595,
          38.283957,
          36.582280700000005,
          38.283957,
          33.69100299999999,
          38.5244649,
          38.5052,
          34.66595650000001,
          38.4141825,
          38.263853499999996,
          40.0982197,
          33.4936391,
          33.4739175,
          33.8213349,
          38.029655,
          34.3704884,
          38.7646021,
          35.5461,
          38.8979586,
          38.40157809999999,
          39.55005070000001,
          42.964122100000004,
          41.39664439999999,
          19.8967662,
          44.0682019,
          40.6331249,
          41.8780025,
          37.839333200000006,
          42.4072107,
          41.5294547,
          42.220869799999996,
          45.2083328,
          44.3148443,
          44.8839492,
          33.4734978,
          37.9642529,
          38.8026097,
          40.0583238,
          39.03678,
          34.5199402,
          42.6776693,
          42.7238165,
          42.3788592,
          42.0668852,
          40.789142,
          40.7127753,
          44.7180522,
          40.9445753,
          42.691849700000006,
          40.924616,
          35.759573100000004,
          36.690549,
          36.0223527,
          41.72323340000001,
          41.72171489999999,
          40.4172871,
          42.3244456,
          45.3762277,
          45.72530920000001,
          47.453775799999995,
          45.2779,
          43.6376174,
          45.1312282,
          45.2107513,
          43.8041334,
          43.8041334,
          44.9267,
          45.3596594,
          42.440124600000004,
          42.7976791,
          43.6474017,
          46.0655953,
          44.942554,
          45.17719829999999,
          41.2033216,
          41.5294547,
          31.968598800000002,
          33.188759000000005,
          33.7998245,
          44.5588028,
          38.9687211,
          38.008604299999995,
          38.4834568,
          37.4315734,
          37.5397721,
          47.1603062,
          47.9445331,
          45.72530920000001,
          47.7340583,
          48.9220655,
          46.088215000000005,
          46.13318779999999,
          48.026974100000004,
          46.64903109999999,
          47.7236535,
          46.4379576,
          37.901662,
          46.3285408,
          46.7498928,
          46.0655953,
          47.751074100000004,
          46.328905799999994,
          40.924616,
          35.759573100000004,
          36.690549,
          36.0223527,
          41.72323340000001,
          41.72171489999999,
          40.4172871
         ],
         "locationmode": "USA-states",
         "lon": [
          -111.0937311,
          -109.94968600000001,
          -110.65535940000001,
          -120.7974514,
          -122.7694345,
          -122.13468590000002,
          -120.77409309999999,
          -122.2819456,
          -123.4794542,
          -118.2522977,
          -120.543623,
          -109.7241712,
          -122.26275290000001,
          -120.1479918,
          -111.960498,
          -122.6766527,
          -122.8870837,
          -120.6805037,
          -119.4179324,
          -119.4179324,
          -121.52833000000001,
          -122.5797054,
          -122.04719329999999,
          -121.73279309999998,
          -122.33485559999998,
          -122.33485559999998,
          -124.1400085,
          -122.20110749999999,
          -122.7710031,
          -121.22983149999999,
          -122.32614720000001,
          -121.33493259999999,
          -80.34453409999998,
          -122.831015,
          -121.08766999999999,
          -119.035202,
          -121.90179540000001,
          -122.2864459,
          -117.62797520000001,
          -120.6930061,
          -122.8734439,
          -121.9552466,
          -120.6075179,
          -95.7610321,
          -120.4357631,
          -104.85045840000001,
          -93.5761735,
          -120.7565689,
          -123.2436186,
          -110.9937019,
          -122.52827020000001,
          -119.6994278,
          -117.0320642,
          -122.45,
          -123.86950859999999,
          -122.69415430000001,
          -87.82715340000001,
          -123.171699,
          -123.0915605,
          -122.5106037,
          -76.9558093,
          -121.79135079999999,
          -121.27221940000001,
          -119.85386509999998,
          -120.0607176,
          -118.7797571,
          -118.8159048,
          -122.76330359999999,
          -123.055829,
          -123.7994591,
          -123.438353,
          -123.7994591,
          -120.77409309999999,
          -123.171699,
          -122.84521979999998,
          -121.57498490000002,
          -121.8946761,
          -121.35416310000001,
          -122.26538870000002,
          -121.8900577,
          -121.9077742,
          -119.7267751,
          -119.7048868,
          -122.0307963,
          -122.45879529999999,
          -121.40521399999999,
          -122.4477575,
          -121.40521399999999,
          -122.26538870000002,
          -122.26538870000002,
          -122.3617618,
          -122.98883190000001,
          -122.5106037,
          -121.1710389,
          -122.26538870000002,
          -120.68933529999998,
          -120.802402,
          -122.33485559999998,
          -122.456822,
          -122.456822,
          -75.60228120000001,
          -122.45803559999999,
          -121.1710389,
          -81.72400400000001,
          -122.8018301,
          -122.33389,
          -79.68766590000001,
          -121.27887079999999,
          -120.65450220000001,
          -120.67837970000001,
          -120.792349,
          -122.96574,
          -120.80394740000001,
          -123.113059,
          -116.85916979999999,
          -93.83086440000001,
          -123.2041429,
          -91.177422,
          -103.6559902,
          -122.8173315,
          -74.10680909999998,
          -118.82076869999999,
          -121.4903848,
          -120.9876321,
          -117.302399,
          -117.16109660000001,
          -122.3107517,
          -121.7215095,
          -109.9167371,
          -120.6596156,
          -120.4357631,
          -119.69819009999999,
          -119.69819009999999,
          -121.8907041,
          -121.83995929999999,
          -121.9579578,
          -121.8448906,
          -121.4203754,
          -120.613122,
          -120.443036,
          -120.0973685,
          -120.79245800000001,
          -111.9886496,
          -118.32869050000001,
          -121.90179540000001,
          -122.16219170000001,
          -122.45803559999999,
          -123.1011733,
          -122.98883190000001,
          -122.8084496,
          -122.26538870000002,
          -122.730368,
          -122.45803559999999,
          -122.98883190000001,
          -122.5749837,
          -122.49748229999999,
          -122.45803559999999,
          -122.5106037,
          -122.456822,
          -121.8303061,
          -122.456822,
          -117.8889767,
          -122.5512918,
          -122.633316,
          -120.11524080000001,
          -122.3213126,
          -122.1139504,
          -122.174605,
          -117.14836480000001,
          -117.14058680000001,
          -116.54523780000001,
          -119.9740534,
          -119.13906419999999,
          -121.90179540000001,
          -120.8332,
          -123.2144507,
          -122.3608105,
          -105.78206740000002,
          -85.88904040000001,
          -73.4542967,
          -155.58278180000002,
          -114.74204080000001,
          -89.3985283,
          -93.097702,
          -84.2700179,
          -71.3824374,
          -71.29679370000001,
          -86.369469,
          -85.5417523,
          -85.60236429999998,
          -85.50972259999998,
          -82.0105148,
          -91.83183340000001,
          -116.419389,
          -74.40566120000001,
          -74.78460989999998,
          -105.87009009999998,
          -76.6990172,
          -76.9297247,
          -73.7983898,
          -81.33994140000001,
          -73.13496099999998,
          -74.0059728,
          -87.5950953,
          -72.626999,
          -76.92019200000001,
          -72.35479149999998,
          -79.01929969999998,
          -93.09603940000001,
          -81.49009629999998,
          -81.0525495,
          -82.82018719999998,
          -82.90712300000001,
          -123.28663519999999,
          -123.03732600000001,
          -121.7299656,
          -120.3251007,
          -123.011,
          -123.568152,
          -123.1637138,
          -123.19448729999999,
          -120.55420120000001,
          -120.55420120000001,
          -123.4919,
          -123.094848,
          -122.92615459999999,
          -122.43329920000001,
          -123.8468812,
          -118.3387429,
          -122.9337615,
          -123.23953030000001,
          -77.1945247,
          -71.29679370000001,
          -99.9018131,
          -102.82610150000001,
          -96.5783387,
          -72.57784149999998,
          -77.7355496,
          -78.4531994,
          -78.84974849999998,
          -78.65689420000001,
          -75.8229685,
          -119.98070109999999,
          -120.6749068,
          -121.7299656,
          -122.15220829999998,
          -122.1390398,
          -118.20393999999999,
          -119.8678139,
          -120.3377317,
          -120.6585503,
          -122.4713352,
          -120.27093159999998,
          -107.7025,
          -120.00798789999999,
          -119.8342096,
          -118.3387429,
          -120.7401385,
          -120.0086385,
          -72.35479149999998,
          -79.01929969999998,
          -93.09603940000001,
          -81.49009629999998,
          -81.0525495,
          -82.82018719999998,
          -82.90712300000001
         ],
         "marker": {
          "autocolorscale": false,
          "cmax": 4480,
          "cmin": 0,
          "color": [
           12,
           27,
           2,
           110,
           784,
           9,
           397,
           2,
           646,
           4,
           163,
           211,
           68,
           79,
           21,
           75,
           2,
           98,
           2629,
           5,
           1,
           149,
           3,
           96,
           999,
           23,
           749,
           4,
           88,
           71,
           12,
           22,
           105,
           28,
           16,
           6,
           73,
           55,
           13,
           154,
           939,
           39,
           410,
           310,
           20,
           7,
           39,
           39,
           64,
           205,
           11,
           166,
           45,
           175,
           9,
           132,
           278,
           5,
           2,
           1,
           2,
           449,
           803,
           81,
           12,
           4,
           4,
           55,
           1,
           365,
           391,
           86,
           1,
           3,
           2,
           20,
           347,
           342,
           1,
           2,
           1,
           4,
           3,
           2,
           19,
           7,
           169,
           65,
           2,
           78,
           1,
           26,
           4,
           2,
           4480,
           1,
           1,
           2,
           3,
           7,
           1,
           19,
           6,
           356,
           18,
           135,
           288,
           31,
           2350,
           1,
           56,
           14,
           6,
           59,
           2,
           91,
           35,
           8,
           72,
           3091,
           411,
           7,
           10,
           38,
           9,
           2,
           14,
           8,
           5,
           15,
           130,
           14,
           1000,
           5,
           104,
           2,
           548,
           806,
           12,
           704,
           812,
           143,
           399,
           2,
           30,
           3,
           5,
           1474,
           1246,
           3,
           5,
           6,
           26,
           1,
           142,
           661,
           19,
           1,
           1,
           1,
           1,
           58,
           136,
           232,
           975,
           155,
           30,
           1,
           26,
           166,
           38,
           5,
           3,
           47,
           9,
           79,
           92,
           27,
           41,
           3,
           1,
           28,
           6,
           4,
           1,
           1,
           6,
           27,
           27,
           14,
           46,
           8,
           25,
           4,
           6,
           2,
           45,
           72,
           1565,
           67,
           5,
           62,
           163,
           1,
           599,
           135,
           19,
           6,
           12,
           5,
           10,
           1,
           1,
           153,
           334,
           73,
           73,
           554,
           26,
           276,
           124,
           460,
           3,
           2,
           134,
           384,
           122,
           232,
           119,
           2301,
           2,
           18,
           1,
           66,
           18,
           1,
           3,
           29,
           155,
           32,
           556,
           5,
           56,
           4,
           86,
           2,
           4124,
           3,
           559,
           51,
           21,
           4,
           98,
           723,
           57,
           348,
           1066,
           440,
           997,
           19,
           6,
           12,
           5,
           10,
           1,
           1
          ],
          "colorbar": {
           "title": {
            "text": "Wines of the US by Region <br>"
           }
          },
          "colorscale": [
           [
            0,
            "rgb(247,251,255)"
           ],
           [
            0.125,
            "rgb(222,235,247)"
           ],
           [
            0.25,
            "rgb(198,219,239)"
           ],
           [
            0.375,
            "rgb(158,202,225)"
           ],
           [
            0.5,
            "rgb(107,174,214)"
           ],
           [
            0.625,
            "rgb(66,146,198)"
           ],
           [
            0.75,
            "rgb(33,113,181)"
           ],
           [
            0.875,
            "rgb(8,81,156)"
           ],
           [
            1,
            "rgb(8,48,107)"
           ]
          ],
          "line": {
           "color": "rgba(102, 102, 102)",
           "width": 1
          },
          "opacity": 0.8,
          "reversescale": true,
          "size": 8,
          "symbol": "square"
         },
         "mode": "markers",
         "text": [
          "Arizona",
          "Cochise County",
          "Sonoita",
          "Adelaida District",
          "Alexander Valley",
          "Alta Mesa",
          "Amador County",
          "Amador-Napa",
          "Anderson Valley",
          "Antelope Valley of the California High Desert",
          "Arroyo Grande Valley",
          "Arroyo Seco",
          "Atlas Peak",
          "Ballard Canyon",
          "Ben Lomond Mountain",
          "Bennett Valley",
          "Big Valley District-Lake County",
          "Calaveras County",
          "California",
          "California Other",
          "California-Oregon",
          "Calistoga",
          "Capay Valley",
          "Carmel Valley",
          "Carneros",
          "Carneros-Napa Valley",
          "Central Coast",
          "Central Valley",
          "Chalk Hill",
          "Chalone",
          "Chiles Valley",
          "Cienega Valley",
          "Clarksburg",
          "Clear Lake",
          "Clements Hills",
          "Cole Ranch",
          "Contra Costa County",
          "Coombsville",
          "Cucamonga Valley",
          "Diamond Mountain District",
          "Dry Creek Valley",
          "Dunnigan Hills",
          "Edna Valley",
          "El Dorado",
          "El Dorado County",
          "El Pomar District",
          "Fair Play",
          "Fiddletown",
          "Fort Ross-Seaview",
          "Green Valley",
          "Guenoc Valley",
          "Happy Canyon of Santa Barbara",
          "High Valley",
          "Howell Mountain",
          "Humboldt County",
          "Knights Valley",
          "Lake County",
          "Lake County-Mendocino County",
          "Lake County-Sonoma County",
          "Lake-Sonoma-Napa",
          "Lime Kiln Valley",
          "Livermore Valley",
          "Lodi",
          "Los Carneros",
          "Madera",
          "Malibu Coast",
          "Malibu-Newton Canyon",
          "Marin County",
          "McDowell Valley",
          "Mendocino",
          "Mendocino County",
          "Mendocino Ridge",
          "Mendocino-Amador",
          "Mendocino-Lake",
          "Mendocino-Lake County-Napa",
          "Mokelumne River",
          "Monterey",
          "Monterey County",
          "Monterey County-Napa County",
          "Monterey County-Napa County-Sonoma County",
          "Monterey-San Luis Obispo-Santa Barbara",
          "Monterey-Santa Barbara",
          "Monterey-Santa Barbara-Sonoma",
          "Monterey-Santa Cruz",
          "Moon Mountain District Sonoma County",
          "Mount Harlan",
          "Mount Veeder",
          "Mt. Harlan",
          "Napa",
          "Napa County",
          "Napa County-Lake County",
          "Napa County-Sonoma County",
          "Napa County-Sonoma County-Lake County",
          "Napa County-Sonoma County-San Joaquin County",
          "Napa Valley",
          "Napa Valley-Paso Robles",
          "Napa-Amador",
          "Napa-Carneros",
          "Napa-Mendocino-Sonoma",
          "Napa-Mendocino-Sonoma-Marin",
          "Napa-Monterey-Mendocino",
          "Napa-Sonoma",
          "Nevada County",
          "North Coast",
          "Northern Sonoma",
          "Oak Knoll District",
          "Oakville",
          "Paicines",
          "Paso Robles",
          "Paso Robles Highlands District",
          "Paso Robles Willow Creek District",
          "Pine Mountain-Cloverdale Peak",
          "Placer County",
          "Potter Valley",
          "Ramona Valley",
          "Red Hills Lake County",
          "Redwood Valley",
          "River Junction",
          "Rockpile",
          "Russian River Valley",
          "Rutherford",
          "Saddle Rock-Malibu",
          "San Antonio Valley",
          "San Benito County",
          "San Bernabe",
          "San Diego County",
          "San Francisco Bay",
          "San Francisco Bay-Livermore Valley",
          "San Lucas",
          "San Luis Obispo",
          "San Luis Obispo County",
          "Santa Barbara",
          "Santa Barbara County",
          "Santa Clara County",
          "Santa Clara Valley",
          "Santa Cruz County",
          "Santa Cruz Mountains",
          "Santa Lucia Highlands",
          "Santa Margarita Ranch",
          "Santa Maria Valley",
          "Santa Ynez Valley",
          "Shenandoah Valley (CA)",
          "Sierra Foothills",
          "Sierra Pelona Valley",
          "Solano County",
          "Solano County Green Valley",
          "Sonoma",
          "Sonoma Coast",
          "Sonoma County",
          "Sonoma County-Lake County",
          "Sonoma County-Monterey County-Napa County",
          "Sonoma County-Monterey County-Santa Barbara County",
          "Sonoma County-Napa County",
          "Sonoma County-Santa Barbara County",
          "Sonoma Mountain",
          "Sonoma Valley",
          "Sonoma-Napa",
          "Sonoma-Napa-Lake",
          "Sonoma-Napa-Mendocino",
          "Sonoma-Napa-Monterey",
          "Sonoma-Santa Barbara-Mendocino",
          "South Coast",
          "Spring Mountain District",
          "St. Helena",
          "Sta. Rita Hills",
          "Stags Leap District",
          "Suisun Valley",
          "Tehama County",
          "Temecula",
          "Temecula Valley",
          "Templeton Gap District",
          "Tuolumne County",
          "Ventura County",
          "Yolo County",
          "York Mountain",
          "Yorkville Highlands",
          "Yountville",
          "Colorado",
          "Grand Valley",
          "Western Connecticut Highlands",
          "Hawaii",
          "Idaho",
          "Illinois",
          "Iowa",
          "Kentucky",
          "Massachusetts",
          "Southeastern New England",
          "Lake Michigan Shore",
          "Leelanau Peninsula",
          "Michigan",
          "Old Mission Peninsula",
          "Augusta",
          "Missouri",
          "Nevada",
          "New Jersey",
          "Outer Coastal Plain",
          "New Mexico",
          "Cayuga Lake",
          "Finger Lakes",
          "Hudson River Region",
          "Lake Erie",
          "Long Island",
          "New York",
          "Niagara Escarpment",
          "North Fork of Long Island",
          "Seneca Lake",
          "The Hamptons, Long Island",
          "North Carolina",
          "Swan Creek",
          "Yadkin Valley",
          "Grand River Valley",
          "Isle St. George",
          "Ohio",
          "Applegate Valley",
          "Chehalem Mountains",
          "Columbia Gorge (OR)",
          "Columbia Valley (OR)",
          "Dundee Hills",
          "Elkton Oregon",
          "Eola-Amity Hills",
          "McMinnville",
          "Oregon",
          "Oregon Other",
          "Polk County",
          "Ribbon Ridge",
          "Rogue Valley",
          "Southern Oregon",
          "Umpqua Valley",
          "Walla Walla Valley (OR)",
          "Willamette Valley",
          "Yamhill County",
          "Pennsylvania",
          "Southeastern New England",
          "Texas",
          "Texas High Plains",
          "Texoma",
          "Vermont",
          "Middleburg",
          "Monticello",
          "Shenandoah Valley",
          "Virginia",
          "Virginia's Eastern Shore",
          "Ancient Lakes",
          "Chelan County",
          "Columbia Gorge (WA)",
          "Columbia Valley",
          "Columbia Valley (WA)",
          "Columbia Valley-Walla Walla Valley",
          "Horse Heaven Hills",
          "Lake Chelan",
          "Naches Heights",
          "Puget Sound",
          "Rattlesnake Hills",
          "Red Mountain",
          "Snipes Mountain",
          "Wahluke Slope",
          "Walla Walla Valley (WA)",
          "Washington",
          "Yakima Valley",
          "The Hamptons, Long Island",
          "North Carolina",
          "Swan Creek",
          "Yadkin Valley",
          "Grand River Valley",
          "Isle St. George",
          "Ohio"
         ],
         "type": "scattergeo"
        }
       ],
       "layout": {
        "geo": {
         "countrycolor": "rgb(217, 217, 217)",
         "countrywidth": 0.5,
         "landcolor": "rgb(250, 250, 250)",
         "projection": {
          "type": "albers usa"
         },
         "scope": "usa",
         "showland": true,
         "subunitcolor": "rgb(217, 217, 217)",
         "subunitwidth": 0.5
        },
        "template": {
         "data": {
          "bar": [
           {
            "error_x": {
             "color": "#2a3f5f"
            },
            "error_y": {
             "color": "#2a3f5f"
            },
            "marker": {
             "line": {
              "color": "#E5ECF6",
              "width": 0.5
             },
             "pattern": {
              "fillmode": "overlay",
              "size": 10,
              "solidity": 0.2
             }
            },
            "type": "bar"
           }
          ],
          "barpolar": [
           {
            "marker": {
             "line": {
              "color": "#E5ECF6",
              "width": 0.5
             },
             "pattern": {
              "fillmode": "overlay",
              "size": 10,
              "solidity": 0.2
             }
            },
            "type": "barpolar"
           }
          ],
          "carpet": [
           {
            "aaxis": {
             "endlinecolor": "#2a3f5f",
             "gridcolor": "white",
             "linecolor": "white",
             "minorgridcolor": "white",
             "startlinecolor": "#2a3f5f"
            },
            "baxis": {
             "endlinecolor": "#2a3f5f",
             "gridcolor": "white",
             "linecolor": "white",
             "minorgridcolor": "white",
             "startlinecolor": "#2a3f5f"
            },
            "type": "carpet"
           }
          ],
          "choropleth": [
           {
            "colorbar": {
             "outlinewidth": 0,
             "ticks": ""
            },
            "type": "choropleth"
           }
          ],
          "contour": [
           {
            "colorbar": {
             "outlinewidth": 0,
             "ticks": ""
            },
            "colorscale": [
             [
              0,
              "#0d0887"
             ],
             [
              0.1111111111111111,
              "#46039f"
             ],
             [
              0.2222222222222222,
              "#7201a8"
             ],
             [
              0.3333333333333333,
              "#9c179e"
             ],
             [
              0.4444444444444444,
              "#bd3786"
             ],
             [
              0.5555555555555556,
              "#d8576b"
             ],
             [
              0.6666666666666666,
              "#ed7953"
             ],
             [
              0.7777777777777778,
              "#fb9f3a"
             ],
             [
              0.8888888888888888,
              "#fdca26"
             ],
             [
              1,
              "#f0f921"
             ]
            ],
            "type": "contour"
           }
          ],
          "contourcarpet": [
           {
            "colorbar": {
             "outlinewidth": 0,
             "ticks": ""
            },
            "type": "contourcarpet"
           }
          ],
          "heatmap": [
           {
            "colorbar": {
             "outlinewidth": 0,
             "ticks": ""
            },
            "colorscale": [
             [
              0,
              "#0d0887"
             ],
             [
              0.1111111111111111,
              "#46039f"
             ],
             [
              0.2222222222222222,
              "#7201a8"
             ],
             [
              0.3333333333333333,
              "#9c179e"
             ],
             [
              0.4444444444444444,
              "#bd3786"
             ],
             [
              0.5555555555555556,
              "#d8576b"
             ],
             [
              0.6666666666666666,
              "#ed7953"
             ],
             [
              0.7777777777777778,
              "#fb9f3a"
             ],
             [
              0.8888888888888888,
              "#fdca26"
             ],
             [
              1,
              "#f0f921"
             ]
            ],
            "type": "heatmap"
           }
          ],
          "heatmapgl": [
           {
            "colorbar": {
             "outlinewidth": 0,
             "ticks": ""
            },
            "colorscale": [
             [
              0,
              "#0d0887"
             ],
             [
              0.1111111111111111,
              "#46039f"
             ],
             [
              0.2222222222222222,
              "#7201a8"
             ],
             [
              0.3333333333333333,
              "#9c179e"
             ],
             [
              0.4444444444444444,
              "#bd3786"
             ],
             [
              0.5555555555555556,
              "#d8576b"
             ],
             [
              0.6666666666666666,
              "#ed7953"
             ],
             [
              0.7777777777777778,
              "#fb9f3a"
             ],
             [
              0.8888888888888888,
              "#fdca26"
             ],
             [
              1,
              "#f0f921"
             ]
            ],
            "type": "heatmapgl"
           }
          ],
          "histogram": [
           {
            "marker": {
             "pattern": {
              "fillmode": "overlay",
              "size": 10,
              "solidity": 0.2
             }
            },
            "type": "histogram"
           }
          ],
          "histogram2d": [
           {
            "colorbar": {
             "outlinewidth": 0,
             "ticks": ""
            },
            "colorscale": [
             [
              0,
              "#0d0887"
             ],
             [
              0.1111111111111111,
              "#46039f"
             ],
             [
              0.2222222222222222,
              "#7201a8"
             ],
             [
              0.3333333333333333,
              "#9c179e"
             ],
             [
              0.4444444444444444,
              "#bd3786"
             ],
             [
              0.5555555555555556,
              "#d8576b"
             ],
             [
              0.6666666666666666,
              "#ed7953"
             ],
             [
              0.7777777777777778,
              "#fb9f3a"
             ],
             [
              0.8888888888888888,
              "#fdca26"
             ],
             [
              1,
              "#f0f921"
             ]
            ],
            "type": "histogram2d"
           }
          ],
          "histogram2dcontour": [
           {
            "colorbar": {
             "outlinewidth": 0,
             "ticks": ""
            },
            "colorscale": [
             [
              0,
              "#0d0887"
             ],
             [
              0.1111111111111111,
              "#46039f"
             ],
             [
              0.2222222222222222,
              "#7201a8"
             ],
             [
              0.3333333333333333,
              "#9c179e"
             ],
             [
              0.4444444444444444,
              "#bd3786"
             ],
             [
              0.5555555555555556,
              "#d8576b"
             ],
             [
              0.6666666666666666,
              "#ed7953"
             ],
             [
              0.7777777777777778,
              "#fb9f3a"
             ],
             [
              0.8888888888888888,
              "#fdca26"
             ],
             [
              1,
              "#f0f921"
             ]
            ],
            "type": "histogram2dcontour"
           }
          ],
          "mesh3d": [
           {
            "colorbar": {
             "outlinewidth": 0,
             "ticks": ""
            },
            "type": "mesh3d"
           }
          ],
          "parcoords": [
           {
            "line": {
             "colorbar": {
              "outlinewidth": 0,
              "ticks": ""
             }
            },
            "type": "parcoords"
           }
          ],
          "pie": [
           {
            "automargin": true,
            "type": "pie"
           }
          ],
          "scatter": [
           {
            "marker": {
             "colorbar": {
              "outlinewidth": 0,
              "ticks": ""
             }
            },
            "type": "scatter"
           }
          ],
          "scatter3d": [
           {
            "line": {
             "colorbar": {
              "outlinewidth": 0,
              "ticks": ""
             }
            },
            "marker": {
             "colorbar": {
              "outlinewidth": 0,
              "ticks": ""
             }
            },
            "type": "scatter3d"
           }
          ],
          "scattercarpet": [
           {
            "marker": {
             "colorbar": {
              "outlinewidth": 0,
              "ticks": ""
             }
            },
            "type": "scattercarpet"
           }
          ],
          "scattergeo": [
           {
            "marker": {
             "colorbar": {
              "outlinewidth": 0,
              "ticks": ""
             }
            },
            "type": "scattergeo"
           }
          ],
          "scattergl": [
           {
            "marker": {
             "colorbar": {
              "outlinewidth": 0,
              "ticks": ""
             }
            },
            "type": "scattergl"
           }
          ],
          "scattermapbox": [
           {
            "marker": {
             "colorbar": {
              "outlinewidth": 0,
              "ticks": ""
             }
            },
            "type": "scattermapbox"
           }
          ],
          "scatterpolar": [
           {
            "marker": {
             "colorbar": {
              "outlinewidth": 0,
              "ticks": ""
             }
            },
            "type": "scatterpolar"
           }
          ],
          "scatterpolargl": [
           {
            "marker": {
             "colorbar": {
              "outlinewidth": 0,
              "ticks": ""
             }
            },
            "type": "scatterpolargl"
           }
          ],
          "scatterternary": [
           {
            "marker": {
             "colorbar": {
              "outlinewidth": 0,
              "ticks": ""
             }
            },
            "type": "scatterternary"
           }
          ],
          "surface": [
           {
            "colorbar": {
             "outlinewidth": 0,
             "ticks": ""
            },
            "colorscale": [
             [
              0,
              "#0d0887"
             ],
             [
              0.1111111111111111,
              "#46039f"
             ],
             [
              0.2222222222222222,
              "#7201a8"
             ],
             [
              0.3333333333333333,
              "#9c179e"
             ],
             [
              0.4444444444444444,
              "#bd3786"
             ],
             [
              0.5555555555555556,
              "#d8576b"
             ],
             [
              0.6666666666666666,
              "#ed7953"
             ],
             [
              0.7777777777777778,
              "#fb9f3a"
             ],
             [
              0.8888888888888888,
              "#fdca26"
             ],
             [
              1,
              "#f0f921"
             ]
            ],
            "type": "surface"
           }
          ],
          "table": [
           {
            "cells": {
             "fill": {
              "color": "#EBF0F8"
             },
             "line": {
              "color": "white"
             }
            },
            "header": {
             "fill": {
              "color": "#C8D4E3"
             },
             "line": {
              "color": "white"
             }
            },
            "type": "table"
           }
          ]
         },
         "layout": {
          "annotationdefaults": {
           "arrowcolor": "#2a3f5f",
           "arrowhead": 0,
           "arrowwidth": 1
          },
          "autotypenumbers": "strict",
          "coloraxis": {
           "colorbar": {
            "outlinewidth": 0,
            "ticks": ""
           }
          },
          "colorscale": {
           "diverging": [
            [
             0,
             "#8e0152"
            ],
            [
             0.1,
             "#c51b7d"
            ],
            [
             0.2,
             "#de77ae"
            ],
            [
             0.3,
             "#f1b6da"
            ],
            [
             0.4,
             "#fde0ef"
            ],
            [
             0.5,
             "#f7f7f7"
            ],
            [
             0.6,
             "#e6f5d0"
            ],
            [
             0.7,
             "#b8e186"
            ],
            [
             0.8,
             "#7fbc41"
            ],
            [
             0.9,
             "#4d9221"
            ],
            [
             1,
             "#276419"
            ]
           ],
           "sequential": [
            [
             0,
             "#0d0887"
            ],
            [
             0.1111111111111111,
             "#46039f"
            ],
            [
             0.2222222222222222,
             "#7201a8"
            ],
            [
             0.3333333333333333,
             "#9c179e"
            ],
            [
             0.4444444444444444,
             "#bd3786"
            ],
            [
             0.5555555555555556,
             "#d8576b"
            ],
            [
             0.6666666666666666,
             "#ed7953"
            ],
            [
             0.7777777777777778,
             "#fb9f3a"
            ],
            [
             0.8888888888888888,
             "#fdca26"
            ],
            [
             1,
             "#f0f921"
            ]
           ],
           "sequentialminus": [
            [
             0,
             "#0d0887"
            ],
            [
             0.1111111111111111,
             "#46039f"
            ],
            [
             0.2222222222222222,
             "#7201a8"
            ],
            [
             0.3333333333333333,
             "#9c179e"
            ],
            [
             0.4444444444444444,
             "#bd3786"
            ],
            [
             0.5555555555555556,
             "#d8576b"
            ],
            [
             0.6666666666666666,
             "#ed7953"
            ],
            [
             0.7777777777777778,
             "#fb9f3a"
            ],
            [
             0.8888888888888888,
             "#fdca26"
            ],
            [
             1,
             "#f0f921"
            ]
           ]
          },
          "colorway": [
           "#636efa",
           "#EF553B",
           "#00cc96",
           "#ab63fa",
           "#FFA15A",
           "#19d3f3",
           "#FF6692",
           "#B6E880",
           "#FF97FF",
           "#FECB52"
          ],
          "font": {
           "color": "#2a3f5f"
          },
          "geo": {
           "bgcolor": "white",
           "lakecolor": "white",
           "landcolor": "#E5ECF6",
           "showlakes": true,
           "showland": true,
           "subunitcolor": "white"
          },
          "hoverlabel": {
           "align": "left"
          },
          "hovermode": "closest",
          "mapbox": {
           "style": "light"
          },
          "paper_bgcolor": "white",
          "plot_bgcolor": "#E5ECF6",
          "polar": {
           "angularaxis": {
            "gridcolor": "white",
            "linecolor": "white",
            "ticks": ""
           },
           "bgcolor": "#E5ECF6",
           "radialaxis": {
            "gridcolor": "white",
            "linecolor": "white",
            "ticks": ""
           }
          },
          "scene": {
           "xaxis": {
            "backgroundcolor": "#E5ECF6",
            "gridcolor": "white",
            "gridwidth": 2,
            "linecolor": "white",
            "showbackground": true,
            "ticks": "",
            "zerolinecolor": "white"
           },
           "yaxis": {
            "backgroundcolor": "#E5ECF6",
            "gridcolor": "white",
            "gridwidth": 2,
            "linecolor": "white",
            "showbackground": true,
            "ticks": "",
            "zerolinecolor": "white"
           },
           "zaxis": {
            "backgroundcolor": "#E5ECF6",
            "gridcolor": "white",
            "gridwidth": 2,
            "linecolor": "white",
            "showbackground": true,
            "ticks": "",
            "zerolinecolor": "white"
           }
          },
          "shapedefaults": {
           "line": {
            "color": "#2a3f5f"
           }
          },
          "ternary": {
           "aaxis": {
            "gridcolor": "white",
            "linecolor": "white",
            "ticks": ""
           },
           "baxis": {
            "gridcolor": "white",
            "linecolor": "white",
            "ticks": ""
           },
           "bgcolor": "#E5ECF6",
           "caxis": {
            "gridcolor": "white",
            "linecolor": "white",
            "ticks": ""
           }
          },
          "title": {
           "x": 0.05
          },
          "xaxis": {
           "automargin": true,
           "gridcolor": "white",
           "linecolor": "white",
           "ticks": "",
           "title": {
            "standoff": 15
           },
           "zerolinecolor": "white",
           "zerolinewidth": 2
          },
          "yaxis": {
           "automargin": true,
           "gridcolor": "white",
           "linecolor": "white",
           "ticks": "",
           "title": {
            "standoff": 15
           },
           "zerolinecolor": "white",
           "zerolinewidth": 2
          }
         }
        },
        "title": {
         "text": "US Wineries by Region<br>(Hover for Regions)"
        }
       }
      },
      "text/html": [
       "<div>                            <div id=\"55449971-471a-4976-8531-6eaf41c3bf9a\" class=\"plotly-graph-div\" style=\"height:525px; width:100%;\"></div>            <script type=\"text/javascript\">                require([\"plotly\"], function(Plotly) {                    window.PLOTLYENV=window.PLOTLYENV || {};                                    if (document.getElementById(\"55449971-471a-4976-8531-6eaf41c3bf9a\")) {                    Plotly.newPlot(                        \"55449971-471a-4976-8531-6eaf41c3bf9a\",                        [{\"lat\":[34.048928100000005,31.82845799999999,31.6795337,35.64969680000001,38.612964700000006,37.398829,38.3488921,38.340154299999995,39.0865657,34.75137120000001,35.14433629999999,23.075250699999998,38.450743,34.6354195,41.363274,38.4404672,39.022127399999995,38.1960477,36.778261,36.778261,39.59388999999999,38.5787965,38.710736600000004,36.4799024,38.255455600000005,38.255455600000005,40.7834482,40.19987769999999,38.5682227,36.470137799999996,38.532564,36.709960200000005,39.2806451,39.05819049999999,38.190909999999995,35.9733,37.8534093,38.2971707,34.0192133,40.3126723,38.6112043,38.794346000000004,35.217000399999996,36.157489700000006,38.74263759999999,38.79211970000001,37.6321682,38.503910499999996,38.5140796,31.8542511,38.735829100000004,34.420641499999995,33.15032539999999,38.58139,40.7450055,38.6351857,42.368936299999994,39.217383700000006,38.759642,38.5477595,39.15427409999999,37.688744,38.1341477,34.4353532,36.961335600000005,34.025921600000004,34.0761256,38.083403000000004,38.976128,39.3076744,39.5500194,39.3076744,38.3488921,39.217383700000006,38.9812473,38.109759499999996,36.600237799999995,36.3136201,38.502468900000004,36.5977854,36.5407407,34.4217436,34.439296899999995,36.9741171,38.3459224,36.6974604,38.3793566,36.6974604,38.502468900000004,38.502468900000004,38.4963694,38.5779555,38.5477595,37.9175935,38.502468900000004,35.644439299999995,38.379799,38.255455600000005,38.283957,38.283957,38.363443700000005,38.291859,39.1346666,41.41961149999999,38.49876629999999,38.35833,43.467517,36.7289127,35.6368759,35.614576299999996,35.588567,38.854586,39.0915751,39.322108899999996,33.046725300000006,31.4724086,39.265249100000005,43.023122,41.8386562,38.4829842,40.826489,34.09461599999999,37.3917578,36.576088299999995,34.115784000000005,32.7157305,37.6909682,37.6795353,22.890532699999998,35.2827524,35.31022960000001,34.4208305,34.4208305,37.3336581,37.24884779999999,37.045398799999994,37.1108921,36.4307709,35.39798440000001,34.898383,34.5841542,38.5348836,33.3235007,34.476937899999996,38.3104969,38.2529705,38.291859,38.4242109,38.5779555,39.083964400000006,38.502468900000004,38.447323499999996,38.291859,38.5779555,38.322969799999996,38.366879700000005,38.291859,38.5477595,38.283957,36.582280700000005,38.283957,33.69100299999999,38.5244649,38.5052,34.66595650000001,38.4141825,38.263853499999996,40.0982197,33.4936391,33.4739175,33.8213349,38.029655,34.3704884,38.7646021,35.5461,38.8979586,38.40157809999999,39.55005070000001,42.964122100000004,41.39664439999999,19.8967662,44.0682019,40.6331249,41.8780025,37.839333200000006,42.4072107,41.5294547,42.220869799999996,45.2083328,44.3148443,44.8839492,33.4734978,37.9642529,38.8026097,40.0583238,39.03678,34.5199402,42.6776693,42.7238165,42.3788592,42.0668852,40.789142,40.7127753,44.7180522,40.9445753,42.691849700000006,40.924616,35.759573100000004,36.690549,36.0223527,41.72323340000001,41.72171489999999,40.4172871,42.3244456,45.3762277,45.72530920000001,47.453775799999995,45.2779,43.6376174,45.1312282,45.2107513,43.8041334,43.8041334,44.9267,45.3596594,42.440124600000004,42.7976791,43.6474017,46.0655953,44.942554,45.17719829999999,41.2033216,41.5294547,31.968598800000002,33.188759000000005,33.7998245,44.5588028,38.9687211,38.008604299999995,38.4834568,37.4315734,37.5397721,47.1603062,47.9445331,45.72530920000001,47.7340583,48.9220655,46.088215000000005,46.13318779999999,48.026974100000004,46.64903109999999,47.7236535,46.4379576,37.901662,46.3285408,46.7498928,46.0655953,47.751074100000004,46.328905799999994,40.924616,35.759573100000004,36.690549,36.0223527,41.72323340000001,41.72171489999999,40.4172871],\"locationmode\":\"USA-states\",\"lon\":[-111.0937311,-109.94968600000001,-110.65535940000001,-120.7974514,-122.7694345,-122.13468590000002,-120.77409309999999,-122.2819456,-123.4794542,-118.2522977,-120.543623,-109.7241712,-122.26275290000001,-120.1479918,-111.960498,-122.6766527,-122.8870837,-120.6805037,-119.4179324,-119.4179324,-121.52833000000001,-122.5797054,-122.04719329999999,-121.73279309999998,-122.33485559999998,-122.33485559999998,-124.1400085,-122.20110749999999,-122.7710031,-121.22983149999999,-122.32614720000001,-121.33493259999999,-80.34453409999998,-122.831015,-121.08766999999999,-119.035202,-121.90179540000001,-122.2864459,-117.62797520000001,-120.6930061,-122.8734439,-121.9552466,-120.6075179,-95.7610321,-120.4357631,-104.85045840000001,-93.5761735,-120.7565689,-123.2436186,-110.9937019,-122.52827020000001,-119.6994278,-117.0320642,-122.45,-123.86950859999999,-122.69415430000001,-87.82715340000001,-123.171699,-123.0915605,-122.5106037,-76.9558093,-121.79135079999999,-121.27221940000001,-119.85386509999998,-120.0607176,-118.7797571,-118.8159048,-122.76330359999999,-123.055829,-123.7994591,-123.438353,-123.7994591,-120.77409309999999,-123.171699,-122.84521979999998,-121.57498490000002,-121.8946761,-121.35416310000001,-122.26538870000002,-121.8900577,-121.9077742,-119.7267751,-119.7048868,-122.0307963,-122.45879529999999,-121.40521399999999,-122.4477575,-121.40521399999999,-122.26538870000002,-122.26538870000002,-122.3617618,-122.98883190000001,-122.5106037,-121.1710389,-122.26538870000002,-120.68933529999998,-120.802402,-122.33485559999998,-122.456822,-122.456822,-75.60228120000001,-122.45803559999999,-121.1710389,-81.72400400000001,-122.8018301,-122.33389,-79.68766590000001,-121.27887079999999,-120.65450220000001,-120.67837970000001,-120.792349,-122.96574,-120.80394740000001,-123.113059,-116.85916979999999,-93.83086440000001,-123.2041429,-91.177422,-103.6559902,-122.8173315,-74.10680909999998,-118.82076869999999,-121.4903848,-120.9876321,-117.302399,-117.16109660000001,-122.3107517,-121.7215095,-109.9167371,-120.6596156,-120.4357631,-119.69819009999999,-119.69819009999999,-121.8907041,-121.83995929999999,-121.9579578,-121.8448906,-121.4203754,-120.613122,-120.443036,-120.0973685,-120.79245800000001,-111.9886496,-118.32869050000001,-121.90179540000001,-122.16219170000001,-122.45803559999999,-123.1011733,-122.98883190000001,-122.8084496,-122.26538870000002,-122.730368,-122.45803559999999,-122.98883190000001,-122.5749837,-122.49748229999999,-122.45803559999999,-122.5106037,-122.456822,-121.8303061,-122.456822,-117.8889767,-122.5512918,-122.633316,-120.11524080000001,-122.3213126,-122.1139504,-122.174605,-117.14836480000001,-117.14058680000001,-116.54523780000001,-119.9740534,-119.13906419999999,-121.90179540000001,-120.8332,-123.2144507,-122.3608105,-105.78206740000002,-85.88904040000001,-73.4542967,-155.58278180000002,-114.74204080000001,-89.3985283,-93.097702,-84.2700179,-71.3824374,-71.29679370000001,-86.369469,-85.5417523,-85.60236429999998,-85.50972259999998,-82.0105148,-91.83183340000001,-116.419389,-74.40566120000001,-74.78460989999998,-105.87009009999998,-76.6990172,-76.9297247,-73.7983898,-81.33994140000001,-73.13496099999998,-74.0059728,-87.5950953,-72.626999,-76.92019200000001,-72.35479149999998,-79.01929969999998,-93.09603940000001,-81.49009629999998,-81.0525495,-82.82018719999998,-82.90712300000001,-123.28663519999999,-123.03732600000001,-121.7299656,-120.3251007,-123.011,-123.568152,-123.1637138,-123.19448729999999,-120.55420120000001,-120.55420120000001,-123.4919,-123.094848,-122.92615459999999,-122.43329920000001,-123.8468812,-118.3387429,-122.9337615,-123.23953030000001,-77.1945247,-71.29679370000001,-99.9018131,-102.82610150000001,-96.5783387,-72.57784149999998,-77.7355496,-78.4531994,-78.84974849999998,-78.65689420000001,-75.8229685,-119.98070109999999,-120.6749068,-121.7299656,-122.15220829999998,-122.1390398,-118.20393999999999,-119.8678139,-120.3377317,-120.6585503,-122.4713352,-120.27093159999998,-107.7025,-120.00798789999999,-119.8342096,-118.3387429,-120.7401385,-120.0086385,-72.35479149999998,-79.01929969999998,-93.09603940000001,-81.49009629999998,-81.0525495,-82.82018719999998,-82.90712300000001],\"marker\":{\"autocolorscale\":false,\"cmax\":4480,\"cmin\":0,\"color\":[12,27,2,110,784,9,397,2,646,4,163,211,68,79,21,75,2,98,2629,5,1,149,3,96,999,23,749,4,88,71,12,22,105,28,16,6,73,55,13,154,939,39,410,310,20,7,39,39,64,205,11,166,45,175,9,132,278,5,2,1,2,449,803,81,12,4,4,55,1,365,391,86,1,3,2,20,347,342,1,2,1,4,3,2,19,7,169,65,2,78,1,26,4,2,4480,1,1,2,3,7,1,19,6,356,18,135,288,31,2350,1,56,14,6,59,2,91,35,8,72,3091,411,7,10,38,9,2,14,8,5,15,130,14,1000,5,104,2,548,806,12,704,812,143,399,2,30,3,5,1474,1246,3,5,6,26,1,142,661,19,1,1,1,1,58,136,232,975,155,30,1,26,166,38,5,3,47,9,79,92,27,41,3,1,28,6,4,1,1,6,27,27,14,46,8,25,4,6,2,45,72,1565,67,5,62,163,1,599,135,19,6,12,5,10,1,1,153,334,73,73,554,26,276,124,460,3,2,134,384,122,232,119,2301,2,18,1,66,18,1,3,29,155,32,556,5,56,4,86,2,4124,3,559,51,21,4,98,723,57,348,1066,440,997,19,6,12,5,10,1,1],\"colorbar\":{\"title\":{\"text\":\"Wines of the US by Region <br>\"}},\"colorscale\":[[0.0,\"rgb(247,251,255)\"],[0.125,\"rgb(222,235,247)\"],[0.25,\"rgb(198,219,239)\"],[0.375,\"rgb(158,202,225)\"],[0.5,\"rgb(107,174,214)\"],[0.625,\"rgb(66,146,198)\"],[0.75,\"rgb(33,113,181)\"],[0.875,\"rgb(8,81,156)\"],[1.0,\"rgb(8,48,107)\"]],\"line\":{\"color\":\"rgba(102, 102, 102)\",\"width\":1},\"opacity\":0.8,\"reversescale\":true,\"size\":8,\"symbol\":\"square\"},\"mode\":\"markers\",\"text\":[\"Arizona\",\"Cochise County\",\"Sonoita\",\"Adelaida District\",\"Alexander Valley\",\"Alta Mesa\",\"Amador County\",\"Amador-Napa\",\"Anderson Valley\",\"Antelope Valley of the California High Desert\",\"Arroyo Grande Valley\",\"Arroyo Seco\",\"Atlas Peak\",\"Ballard Canyon\",\"Ben Lomond Mountain\",\"Bennett Valley\",\"Big Valley District-Lake County\",\"Calaveras County\",\"California\",\"California Other\",\"California-Oregon\",\"Calistoga\",\"Capay Valley\",\"Carmel Valley\",\"Carneros\",\"Carneros-Napa Valley\",\"Central Coast\",\"Central Valley\",\"Chalk Hill\",\"Chalone\",\"Chiles Valley\",\"Cienega Valley\",\"Clarksburg\",\"Clear Lake\",\"Clements Hills\",\"Cole Ranch\",\"Contra Costa County\",\"Coombsville\",\"Cucamonga Valley\",\"Diamond Mountain District\",\"Dry Creek Valley\",\"Dunnigan Hills\",\"Edna Valley\",\"El Dorado\",\"El Dorado County\",\"El Pomar District\",\"Fair Play\",\"Fiddletown\",\"Fort Ross-Seaview\",\"Green Valley\",\"Guenoc Valley\",\"Happy Canyon of Santa Barbara\",\"High Valley\",\"Howell Mountain\",\"Humboldt County\",\"Knights Valley\",\"Lake County\",\"Lake County-Mendocino County\",\"Lake County-Sonoma County\",\"Lake-Sonoma-Napa\",\"Lime Kiln Valley\",\"Livermore Valley\",\"Lodi\",\"Los Carneros\",\"Madera\",\"Malibu Coast\",\"Malibu-Newton Canyon\",\"Marin County\",\"McDowell Valley\",\"Mendocino\",\"Mendocino County\",\"Mendocino Ridge\",\"Mendocino-Amador\",\"Mendocino-Lake\",\"Mendocino-Lake County-Napa\",\"Mokelumne River\",\"Monterey\",\"Monterey County\",\"Monterey County-Napa County\",\"Monterey County-Napa County-Sonoma County\",\"Monterey-San Luis Obispo-Santa Barbara\",\"Monterey-Santa Barbara\",\"Monterey-Santa Barbara-Sonoma\",\"Monterey-Santa Cruz\",\"Moon Mountain District Sonoma County\",\"Mount Harlan\",\"Mount Veeder\",\"Mt. Harlan\",\"Napa\",\"Napa County\",\"Napa County-Lake County\",\"Napa County-Sonoma County\",\"Napa County-Sonoma County-Lake County\",\"Napa County-Sonoma County-San Joaquin County\",\"Napa Valley\",\"Napa Valley-Paso Robles\",\"Napa-Amador\",\"Napa-Carneros\",\"Napa-Mendocino-Sonoma\",\"Napa-Mendocino-Sonoma-Marin\",\"Napa-Monterey-Mendocino\",\"Napa-Sonoma\",\"Nevada County\",\"North Coast\",\"Northern Sonoma\",\"Oak Knoll District\",\"Oakville\",\"Paicines\",\"Paso Robles\",\"Paso Robles Highlands District\",\"Paso Robles Willow Creek District\",\"Pine Mountain-Cloverdale Peak\",\"Placer County\",\"Potter Valley\",\"Ramona Valley\",\"Red Hills Lake County\",\"Redwood Valley\",\"River Junction\",\"Rockpile\",\"Russian River Valley\",\"Rutherford\",\"Saddle Rock-Malibu\",\"San Antonio Valley\",\"San Benito County\",\"San Bernabe\",\"San Diego County\",\"San Francisco Bay\",\"San Francisco Bay-Livermore Valley\",\"San Lucas\",\"San Luis Obispo\",\"San Luis Obispo County\",\"Santa Barbara\",\"Santa Barbara County\",\"Santa Clara County\",\"Santa Clara Valley\",\"Santa Cruz County\",\"Santa Cruz Mountains\",\"Santa Lucia Highlands\",\"Santa Margarita Ranch\",\"Santa Maria Valley\",\"Santa Ynez Valley\",\"Shenandoah Valley (CA)\",\"Sierra Foothills\",\"Sierra Pelona Valley\",\"Solano County\",\"Solano County Green Valley\",\"Sonoma\",\"Sonoma Coast\",\"Sonoma County\",\"Sonoma County-Lake County\",\"Sonoma County-Monterey County-Napa County\",\"Sonoma County-Monterey County-Santa Barbara County\",\"Sonoma County-Napa County\",\"Sonoma County-Santa Barbara County\",\"Sonoma Mountain\",\"Sonoma Valley\",\"Sonoma-Napa\",\"Sonoma-Napa-Lake\",\"Sonoma-Napa-Mendocino\",\"Sonoma-Napa-Monterey\",\"Sonoma-Santa Barbara-Mendocino\",\"South Coast\",\"Spring Mountain District\",\"St. Helena\",\"Sta. Rita Hills\",\"Stags Leap District\",\"Suisun Valley\",\"Tehama County\",\"Temecula\",\"Temecula Valley\",\"Templeton Gap District\",\"Tuolumne County\",\"Ventura County\",\"Yolo County\",\"York Mountain\",\"Yorkville Highlands\",\"Yountville\",\"Colorado\",\"Grand Valley\",\"Western Connecticut Highlands\",\"Hawaii\",\"Idaho\",\"Illinois\",\"Iowa\",\"Kentucky\",\"Massachusetts\",\"Southeastern New England\",\"Lake Michigan Shore\",\"Leelanau Peninsula\",\"Michigan\",\"Old Mission Peninsula\",\"Augusta\",\"Missouri\",\"Nevada\",\"New Jersey\",\"Outer Coastal Plain\",\"New Mexico\",\"Cayuga Lake\",\"Finger Lakes\",\"Hudson River Region\",\"Lake Erie\",\"Long Island\",\"New York\",\"Niagara Escarpment\",\"North Fork of Long Island\",\"Seneca Lake\",\"The Hamptons, Long Island\",\"North Carolina\",\"Swan Creek\",\"Yadkin Valley\",\"Grand River Valley\",\"Isle St. George\",\"Ohio\",\"Applegate Valley\",\"Chehalem Mountains\",\"Columbia Gorge (OR)\",\"Columbia Valley (OR)\",\"Dundee Hills\",\"Elkton Oregon\",\"Eola-Amity Hills\",\"McMinnville\",\"Oregon\",\"Oregon Other\",\"Polk County\",\"Ribbon Ridge\",\"Rogue Valley\",\"Southern Oregon\",\"Umpqua Valley\",\"Walla Walla Valley (OR)\",\"Willamette Valley\",\"Yamhill County\",\"Pennsylvania\",\"Southeastern New England\",\"Texas\",\"Texas High Plains\",\"Texoma\",\"Vermont\",\"Middleburg\",\"Monticello\",\"Shenandoah Valley\",\"Virginia\",\"Virginia's Eastern Shore\",\"Ancient Lakes\",\"Chelan County\",\"Columbia Gorge (WA)\",\"Columbia Valley\",\"Columbia Valley (WA)\",\"Columbia Valley-Walla Walla Valley\",\"Horse Heaven Hills\",\"Lake Chelan\",\"Naches Heights\",\"Puget Sound\",\"Rattlesnake Hills\",\"Red Mountain\",\"Snipes Mountain\",\"Wahluke Slope\",\"Walla Walla Valley (WA)\",\"Washington\",\"Yakima Valley\",\"The Hamptons, Long Island\",\"North Carolina\",\"Swan Creek\",\"Yadkin Valley\",\"Grand River Valley\",\"Isle St. George\",\"Ohio\"],\"type\":\"scattergeo\"}],                        {\"geo\":{\"countrycolor\":\"rgb(217, 217, 217)\",\"countrywidth\":0.5,\"landcolor\":\"rgb(250, 250, 250)\",\"projection\":{\"type\":\"albers usa\"},\"scope\":\"usa\",\"showland\":true,\"subunitcolor\":\"rgb(217, 217, 217)\",\"subunitwidth\":0.5},\"template\":{\"data\":{\"bar\":[{\"error_x\":{\"color\":\"#2a3f5f\"},\"error_y\":{\"color\":\"#2a3f5f\"},\"marker\":{\"line\":{\"color\":\"#E5ECF6\",\"width\":0.5},\"pattern\":{\"fillmode\":\"overlay\",\"size\":10,\"solidity\":0.2}},\"type\":\"bar\"}],\"barpolar\":[{\"marker\":{\"line\":{\"color\":\"#E5ECF6\",\"width\":0.5},\"pattern\":{\"fillmode\":\"overlay\",\"size\":10,\"solidity\":0.2}},\"type\":\"barpolar\"}],\"carpet\":[{\"aaxis\":{\"endlinecolor\":\"#2a3f5f\",\"gridcolor\":\"white\",\"linecolor\":\"white\",\"minorgridcolor\":\"white\",\"startlinecolor\":\"#2a3f5f\"},\"baxis\":{\"endlinecolor\":\"#2a3f5f\",\"gridcolor\":\"white\",\"linecolor\":\"white\",\"minorgridcolor\":\"white\",\"startlinecolor\":\"#2a3f5f\"},\"type\":\"carpet\"}],\"choropleth\":[{\"colorbar\":{\"outlinewidth\":0,\"ticks\":\"\"},\"type\":\"choropleth\"}],\"contour\":[{\"colorbar\":{\"outlinewidth\":0,\"ticks\":\"\"},\"colorscale\":[[0.0,\"#0d0887\"],[0.1111111111111111,\"#46039f\"],[0.2222222222222222,\"#7201a8\"],[0.3333333333333333,\"#9c179e\"],[0.4444444444444444,\"#bd3786\"],[0.5555555555555556,\"#d8576b\"],[0.6666666666666666,\"#ed7953\"],[0.7777777777777778,\"#fb9f3a\"],[0.8888888888888888,\"#fdca26\"],[1.0,\"#f0f921\"]],\"type\":\"contour\"}],\"contourcarpet\":[{\"colorbar\":{\"outlinewidth\":0,\"ticks\":\"\"},\"type\":\"contourcarpet\"}],\"heatmap\":[{\"colorbar\":{\"outlinewidth\":0,\"ticks\":\"\"},\"colorscale\":[[0.0,\"#0d0887\"],[0.1111111111111111,\"#46039f\"],[0.2222222222222222,\"#7201a8\"],[0.3333333333333333,\"#9c179e\"],[0.4444444444444444,\"#bd3786\"],[0.5555555555555556,\"#d8576b\"],[0.6666666666666666,\"#ed7953\"],[0.7777777777777778,\"#fb9f3a\"],[0.8888888888888888,\"#fdca26\"],[1.0,\"#f0f921\"]],\"type\":\"heatmap\"}],\"heatmapgl\":[{\"colorbar\":{\"outlinewidth\":0,\"ticks\":\"\"},\"colorscale\":[[0.0,\"#0d0887\"],[0.1111111111111111,\"#46039f\"],[0.2222222222222222,\"#7201a8\"],[0.3333333333333333,\"#9c179e\"],[0.4444444444444444,\"#bd3786\"],[0.5555555555555556,\"#d8576b\"],[0.6666666666666666,\"#ed7953\"],[0.7777777777777778,\"#fb9f3a\"],[0.8888888888888888,\"#fdca26\"],[1.0,\"#f0f921\"]],\"type\":\"heatmapgl\"}],\"histogram\":[{\"marker\":{\"pattern\":{\"fillmode\":\"overlay\",\"size\":10,\"solidity\":0.2}},\"type\":\"histogram\"}],\"histogram2d\":[{\"colorbar\":{\"outlinewidth\":0,\"ticks\":\"\"},\"colorscale\":[[0.0,\"#0d0887\"],[0.1111111111111111,\"#46039f\"],[0.2222222222222222,\"#7201a8\"],[0.3333333333333333,\"#9c179e\"],[0.4444444444444444,\"#bd3786\"],[0.5555555555555556,\"#d8576b\"],[0.6666666666666666,\"#ed7953\"],[0.7777777777777778,\"#fb9f3a\"],[0.8888888888888888,\"#fdca26\"],[1.0,\"#f0f921\"]],\"type\":\"histogram2d\"}],\"histogram2dcontour\":[{\"colorbar\":{\"outlinewidth\":0,\"ticks\":\"\"},\"colorscale\":[[0.0,\"#0d0887\"],[0.1111111111111111,\"#46039f\"],[0.2222222222222222,\"#7201a8\"],[0.3333333333333333,\"#9c179e\"],[0.4444444444444444,\"#bd3786\"],[0.5555555555555556,\"#d8576b\"],[0.6666666666666666,\"#ed7953\"],[0.7777777777777778,\"#fb9f3a\"],[0.8888888888888888,\"#fdca26\"],[1.0,\"#f0f921\"]],\"type\":\"histogram2dcontour\"}],\"mesh3d\":[{\"colorbar\":{\"outlinewidth\":0,\"ticks\":\"\"},\"type\":\"mesh3d\"}],\"parcoords\":[{\"line\":{\"colorbar\":{\"outlinewidth\":0,\"ticks\":\"\"}},\"type\":\"parcoords\"}],\"pie\":[{\"automargin\":true,\"type\":\"pie\"}],\"scatter\":[{\"marker\":{\"colorbar\":{\"outlinewidth\":0,\"ticks\":\"\"}},\"type\":\"scatter\"}],\"scatter3d\":[{\"line\":{\"colorbar\":{\"outlinewidth\":0,\"ticks\":\"\"}},\"marker\":{\"colorbar\":{\"outlinewidth\":0,\"ticks\":\"\"}},\"type\":\"scatter3d\"}],\"scattercarpet\":[{\"marker\":{\"colorbar\":{\"outlinewidth\":0,\"ticks\":\"\"}},\"type\":\"scattercarpet\"}],\"scattergeo\":[{\"marker\":{\"colorbar\":{\"outlinewidth\":0,\"ticks\":\"\"}},\"type\":\"scattergeo\"}],\"scattergl\":[{\"marker\":{\"colorbar\":{\"outlinewidth\":0,\"ticks\":\"\"}},\"type\":\"scattergl\"}],\"scattermapbox\":[{\"marker\":{\"colorbar\":{\"outlinewidth\":0,\"ticks\":\"\"}},\"type\":\"scattermapbox\"}],\"scatterpolar\":[{\"marker\":{\"colorbar\":{\"outlinewidth\":0,\"ticks\":\"\"}},\"type\":\"scatterpolar\"}],\"scatterpolargl\":[{\"marker\":{\"colorbar\":{\"outlinewidth\":0,\"ticks\":\"\"}},\"type\":\"scatterpolargl\"}],\"scatterternary\":[{\"marker\":{\"colorbar\":{\"outlinewidth\":0,\"ticks\":\"\"}},\"type\":\"scatterternary\"}],\"surface\":[{\"colorbar\":{\"outlinewidth\":0,\"ticks\":\"\"},\"colorscale\":[[0.0,\"#0d0887\"],[0.1111111111111111,\"#46039f\"],[0.2222222222222222,\"#7201a8\"],[0.3333333333333333,\"#9c179e\"],[0.4444444444444444,\"#bd3786\"],[0.5555555555555556,\"#d8576b\"],[0.6666666666666666,\"#ed7953\"],[0.7777777777777778,\"#fb9f3a\"],[0.8888888888888888,\"#fdca26\"],[1.0,\"#f0f921\"]],\"type\":\"surface\"}],\"table\":[{\"cells\":{\"fill\":{\"color\":\"#EBF0F8\"},\"line\":{\"color\":\"white\"}},\"header\":{\"fill\":{\"color\":\"#C8D4E3\"},\"line\":{\"color\":\"white\"}},\"type\":\"table\"}]},\"layout\":{\"annotationdefaults\":{\"arrowcolor\":\"#2a3f5f\",\"arrowhead\":0,\"arrowwidth\":1},\"autotypenumbers\":\"strict\",\"coloraxis\":{\"colorbar\":{\"outlinewidth\":0,\"ticks\":\"\"}},\"colorscale\":{\"diverging\":[[0,\"#8e0152\"],[0.1,\"#c51b7d\"],[0.2,\"#de77ae\"],[0.3,\"#f1b6da\"],[0.4,\"#fde0ef\"],[0.5,\"#f7f7f7\"],[0.6,\"#e6f5d0\"],[0.7,\"#b8e186\"],[0.8,\"#7fbc41\"],[0.9,\"#4d9221\"],[1,\"#276419\"]],\"sequential\":[[0.0,\"#0d0887\"],[0.1111111111111111,\"#46039f\"],[0.2222222222222222,\"#7201a8\"],[0.3333333333333333,\"#9c179e\"],[0.4444444444444444,\"#bd3786\"],[0.5555555555555556,\"#d8576b\"],[0.6666666666666666,\"#ed7953\"],[0.7777777777777778,\"#fb9f3a\"],[0.8888888888888888,\"#fdca26\"],[1.0,\"#f0f921\"]],\"sequentialminus\":[[0.0,\"#0d0887\"],[0.1111111111111111,\"#46039f\"],[0.2222222222222222,\"#7201a8\"],[0.3333333333333333,\"#9c179e\"],[0.4444444444444444,\"#bd3786\"],[0.5555555555555556,\"#d8576b\"],[0.6666666666666666,\"#ed7953\"],[0.7777777777777778,\"#fb9f3a\"],[0.8888888888888888,\"#fdca26\"],[1.0,\"#f0f921\"]]},\"colorway\":[\"#636efa\",\"#EF553B\",\"#00cc96\",\"#ab63fa\",\"#FFA15A\",\"#19d3f3\",\"#FF6692\",\"#B6E880\",\"#FF97FF\",\"#FECB52\"],\"font\":{\"color\":\"#2a3f5f\"},\"geo\":{\"bgcolor\":\"white\",\"lakecolor\":\"white\",\"landcolor\":\"#E5ECF6\",\"showlakes\":true,\"showland\":true,\"subunitcolor\":\"white\"},\"hoverlabel\":{\"align\":\"left\"},\"hovermode\":\"closest\",\"mapbox\":{\"style\":\"light\"},\"paper_bgcolor\":\"white\",\"plot_bgcolor\":\"#E5ECF6\",\"polar\":{\"angularaxis\":{\"gridcolor\":\"white\",\"linecolor\":\"white\",\"ticks\":\"\"},\"bgcolor\":\"#E5ECF6\",\"radialaxis\":{\"gridcolor\":\"white\",\"linecolor\":\"white\",\"ticks\":\"\"}},\"scene\":{\"xaxis\":{\"backgroundcolor\":\"#E5ECF6\",\"gridcolor\":\"white\",\"gridwidth\":2,\"linecolor\":\"white\",\"showbackground\":true,\"ticks\":\"\",\"zerolinecolor\":\"white\"},\"yaxis\":{\"backgroundcolor\":\"#E5ECF6\",\"gridcolor\":\"white\",\"gridwidth\":2,\"linecolor\":\"white\",\"showbackground\":true,\"ticks\":\"\",\"zerolinecolor\":\"white\"},\"zaxis\":{\"backgroundcolor\":\"#E5ECF6\",\"gridcolor\":\"white\",\"gridwidth\":2,\"linecolor\":\"white\",\"showbackground\":true,\"ticks\":\"\",\"zerolinecolor\":\"white\"}},\"shapedefaults\":{\"line\":{\"color\":\"#2a3f5f\"}},\"ternary\":{\"aaxis\":{\"gridcolor\":\"white\",\"linecolor\":\"white\",\"ticks\":\"\"},\"baxis\":{\"gridcolor\":\"white\",\"linecolor\":\"white\",\"ticks\":\"\"},\"bgcolor\":\"#E5ECF6\",\"caxis\":{\"gridcolor\":\"white\",\"linecolor\":\"white\",\"ticks\":\"\"}},\"title\":{\"x\":0.05},\"xaxis\":{\"automargin\":true,\"gridcolor\":\"white\",\"linecolor\":\"white\",\"ticks\":\"\",\"title\":{\"standoff\":15},\"zerolinecolor\":\"white\",\"zerolinewidth\":2},\"yaxis\":{\"automargin\":true,\"gridcolor\":\"white\",\"linecolor\":\"white\",\"ticks\":\"\",\"title\":{\"standoff\":15},\"zerolinecolor\":\"white\",\"zerolinewidth\":2}}},\"title\":{\"text\":\"US Wineries by Region<br>(Hover for Regions)\"}},                        {\"responsive\": true}                    ).then(function(){\n",
       "                            \n",
       "var gd = document.getElementById('55449971-471a-4976-8531-6eaf41c3bf9a');\n",
       "var x = new MutationObserver(function (mutations, observer) {{\n",
       "        var display = window.getComputedStyle(gd).display;\n",
       "        if (!display || display === 'none') {{\n",
       "            console.log([gd, 'removed!']);\n",
       "            Plotly.purge(gd);\n",
       "            observer.disconnect();\n",
       "        }}\n",
       "}});\n",
       "\n",
       "// Listen for the removal of the full notebook cells\n",
       "var notebookContainer = gd.closest('#notebook-container');\n",
       "if (notebookContainer) {{\n",
       "    x.observe(notebookContainer, {childList: true});\n",
       "}}\n",
       "\n",
       "// Listen for the clearing of the current output cell\n",
       "var outputEl = gd.closest('.output');\n",
       "if (outputEl) {{\n",
       "    x.observe(outputEl, {childList: true});\n",
       "}}\n",
       "\n",
       "                        })                };                });            </script>        </div>"
      ]
     },
     "metadata": {},
     "output_type": "display_data"
    }
   ],
   "source": [
    "import plotly.graph_objects as go\n",
    "import pandas as pd\n",
    "\n",
    "df = pd.read_csv('Resources/lat_longs.csv')\n",
    "df['text'] = df['region'] + '' + df['region'] + ', ' + df['state'] + '' + 'num_wineries: ' + df['num_wineries'].astype(str)\n",
    "\n",
    "\n",
    "fig = go.Figure(data=go.Scattergeo(\n",
    "        locationmode = 'USA-states',\n",
    "        lat = df['Lat'],    \n",
    "        lon = df['Lng'],\n",
    "    \n",
    "        text = df['region'],\n",
    "        mode = 'markers',\n",
    "        marker = dict(\n",
    "            size = 8,\n",
    "            opacity = 0.8,\n",
    "            reversescale = True,\n",
    "            autocolorscale = False,\n",
    "            symbol = 'square',\n",
    "            line = dict(\n",
    "                width=1,\n",
    "                color='rgba(102, 102, 102)'\n",
    "            ),\n",
    "            colorscale = 'Blues',\n",
    "            cmin = 0,\n",
    "            color = df['num_wineries'],\n",
    "            cmax = df['num_wineries'].max(),\n",
    "            colorbar_title=\"Number of Wineries in the US by Region <br>\"\n",
    "        )))\n",
    "\n",
    "fig.update_layout(\n",
    "        title = 'US Wineries by Region<br>(Hover for Regions)',\n",
    "        geo = dict(\n",
    "            scope='usa',\n",
    "            projection_type='albers usa',\n",
    "            showland = True,\n",
    "            landcolor = \"rgb(250, 250, 250)\",\n",
    "            subunitcolor = \"rgb(217, 217, 217)\",\n",
    "            countrycolor = \"rgb(217, 217, 217)\",\n",
    "            countrywidth = 0.5,\n",
    "            subunitwidth = 0.5\n",
    "        ),\n",
    "    )\n",
    "fig.show()\n",
    "\n"
   ]
  },
  {
   "cell_type": "code",
   "execution_count": null,
   "metadata": {},
   "outputs": [],
   "source": []
  },
  {
   "cell_type": "code",
   "execution_count": null,
   "metadata": {},
   "outputs": [],
   "source": []
  },
  {
   "cell_type": "code",
   "execution_count": null,
   "metadata": {},
   "outputs": [],
   "source": []
  }
 ],
 "metadata": {
  "kernelspec": {
   "display_name": "Python [conda env:PythonData] *",
   "language": "python",
   "name": "conda-env-PythonData-py"
  },
  "language_info": {
   "codemirror_mode": {
    "name": "ipython",
    "version": 3
   },
   "file_extension": ".py",
   "mimetype": "text/x-python",
   "name": "python",
   "nbconvert_exporter": "python",
   "pygments_lexer": "ipython3",
   "version": "3.6.10"
  }
 },
 "nbformat": 4,
 "nbformat_minor": 4
}
